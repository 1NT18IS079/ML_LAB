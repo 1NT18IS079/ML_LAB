{
 "cells": [
  {
   "cell_type": "code",
   "execution_count": 1,
   "metadata": {},
   "outputs": [
    {
     "data": {
      "text/plain": [
       "[1, 2, 3, 4]"
      ]
     },
     "execution_count": 1,
     "metadata": {},
     "output_type": "execute_result"
    }
   ],
   "source": [
    "newList = [1, 2, 3, 4]\n",
    "newList"
   ]
  },
  {
   "cell_type": "code",
   "execution_count": 8,
   "metadata": {},
   "outputs": [
    {
     "data": {
      "text/plain": [
       "['Tomato', 'Chilli', 'Beans', ['Apple', 'Banana', 'Orange']]"
      ]
     },
     "execution_count": 8,
     "metadata": {},
     "output_type": "execute_result"
    }
   ],
   "source": [
    "list1 = [\"Apple\", \"Banana\", \"Orange\"]\n",
    "list2 = [\"Tomato\", \"Chilli\", \"Beans\"]\n",
    "\n",
    "list2.append(list1)\n",
    "list2\n"
   ]
  },
  {
   "cell_type": "code",
   "execution_count": 66,
   "metadata": {},
   "outputs": [
    {
     "name": "stdout",
     "output_type": "stream",
     "text": [
      "Mean : \n"
     ]
    },
    {
     "data": {
      "text/plain": [
       "121.24000000000001"
      ]
     },
     "execution_count": 66,
     "metadata": {},
     "output_type": "execute_result"
    }
   ],
   "source": [
    "newTestList = [115.3, 195.5, 120.5, 110.2, 90.4, 105.6, 110.9, 116.3, 122.3, 125.4]\n",
    "\n",
    "sum = 0 \n",
    "length = 0\n",
    "for num in newTestList:\n",
    "    sum += num\n",
    "    length += 1\n",
    "    \n",
    "print(\"Mean : \")\n",
    "sum/length\n"
   ]
  },
  {
   "cell_type": "code",
   "execution_count": 67,
   "metadata": {},
   "outputs": [
    {
     "name": "stdout",
     "output_type": "stream",
     "text": [
      "Median : 115.8\n"
     ]
    }
   ],
   "source": [
    "newTestList = [115.3, 195.5, 120.5, 110.2, 90.4, 105.6, 110.9, 116.3, 122.3, 125.4]\n",
    "\n",
    "newTestList.sort()\n",
    "if length % 2 == 0:\n",
    "    m1 = newTestList[length//2]\n",
    "    m2 = newTestList[length//2 - 1]\n",
    "    median = (m1 + m2)/2\n",
    "else:\n",
    "    median = newTestList[length//2]\n",
    "    \n",
    "    \n",
    "print(\"Median : \" + str(median))"
   ]
  },
  {
   "cell_type": "code",
   "execution_count": 72,
   "metadata": {},
   "outputs": [
    {
     "ename": "TypeError",
     "evalue": "'int' object is not subscriptable",
     "output_type": "error",
     "traceback": [
      "\u001b[0;31m---------------------------------------------------------------------------\u001b[0m",
      "\u001b[0;31mTypeError\u001b[0m                                 Traceback (most recent call last)",
      "\u001b[0;32m<ipython-input-72-f57bdd39c179>\u001b[0m in \u001b[0;36m<module>\u001b[0;34m\u001b[0m\n\u001b[0;32m----> 1\u001b[0;31m \u001b[0mfreq\u001b[0m\u001b[0;34m[\u001b[0m\u001b[0mlength\u001b[0m\u001b[0;34m]\u001b[0m\u001b[0;34m\u001b[0m\u001b[0;34m\u001b[0m\u001b[0m\n\u001b[0m\u001b[1;32m      2\u001b[0m \u001b[0mfreq\u001b[0m\u001b[0;34m\u001b[0m\u001b[0;34m\u001b[0m\u001b[0m\n\u001b[1;32m      3\u001b[0m \u001b[0;31m# for num in newTestList:\u001b[0m\u001b[0;34m\u001b[0m\u001b[0;34m\u001b[0m\u001b[0;34m\u001b[0m\u001b[0m\n\u001b[1;32m      4\u001b[0m \u001b[0;31m#     cnt = 0\u001b[0m\u001b[0;34m\u001b[0m\u001b[0;34m\u001b[0m\u001b[0;34m\u001b[0m\u001b[0m\n\u001b[1;32m      5\u001b[0m \u001b[0;31m#     for ele in newTestList:\u001b[0m\u001b[0;34m\u001b[0m\u001b[0;34m\u001b[0m\u001b[0;34m\u001b[0m\u001b[0m\n",
      "\u001b[0;31mTypeError\u001b[0m: 'int' object is not subscriptable"
     ]
    }
   ],
   "source": [
    "number = -1\n",
    "freq = 0\n",
    "\n",
    "for num in newTestList:\n",
    "    cnt = 0\n",
    "    for ele in newTestList:\n",
    "        if(num == ele):\n",
    "            cnt = cnt + 1\n",
    "        \n",
    "    if(cnt > freq):\n",
    "        freq = cnt\n",
    "        number = num\n",
    "        \n",
    "print(\"Mode :\" + str(number)) \n",
    "        \n",
    "        "
   ]
  },
  {
   "cell_type": "code",
   "execution_count": 79,
   "metadata": {},
   "outputs": [],
   "source": [
    "freq = [0] * length\n",
    "i = 0\n",
    "maxi = 0\n",
    "for num in newTestList:\n",
    "    cnt = 0\n",
    "    for ele in newTestList:\n",
    "        if(num == ele):\n",
    "            freq[i] = freq[i] + 1;\n",
    "        \n",
    "    if(maxi < cnt):\n",
    "        maxi = cnt\n",
    "    i = i + 1\n",
    "    \n",
    "    \n",
    "i = 0\n",
    "for num in newTestList:\n",
    "    if freq[i] == maxi:\n",
    "        print(str(num) + \", \")\n",
    "    i = i + 1\n"
   ]
  },
  {
   "cell_type": "code",
   "execution_count": null,
   "metadata": {},
   "outputs": [],
   "source": []
  }
 ],
 "metadata": {
  "kernelspec": {
   "display_name": "Python 3",
   "language": "python",
   "name": "python3"
  },
  "language_info": {
   "codemirror_mode": {
    "name": "ipython",
    "version": 3
   },
   "file_extension": ".py",
   "mimetype": "text/x-python",
   "name": "python",
   "nbconvert_exporter": "python",
   "pygments_lexer": "ipython3",
   "version": "3.8.5"
  }
 },
 "nbformat": 4,
 "nbformat_minor": 4
}
